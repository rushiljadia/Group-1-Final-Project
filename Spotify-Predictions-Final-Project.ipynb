{
 "cells": [
  {
   "cell_type": "markdown",
   "id": "a7617617",
   "metadata": {},
   "source": [
    "# **Group 1 Final Project - Spotify Predictions**"
   ]
  },
  {
   "cell_type": "markdown",
   "id": "58310c99",
   "metadata": {},
   "source": []
  }
 ],
 "metadata": {
  "kernelspec": {
   "display_name": ".venv",
   "language": "python",
   "name": "python3"
  },
  "language_info": {
   "name": "python",
   "version": "3.12.4"
  }
 },
 "nbformat": 4,
 "nbformat_minor": 5
}
